{
  "cells": [
    {
      "cell_type": "markdown",
      "metadata": {
        "id": "-bIIDV4mLpFB"
      },
      "source": [
        "SAS & HSE, Applied Time Series Forecasitng , Fall 2022\n",
        "\n",
        "<font color=\"blue\"> HW #1 </font>\n",
        "\n",
        "<span style=\"color:black; font-size: 12pt\"></span>\n",
        "\n",
        "Alexey Romanenko,\n",
        "<font color=\"blue\">alexromsput@gmail.com</font>"
      ]
    },
    {
      "cell_type": "markdown",
      "metadata": {
        "id": "-_CmZRMPLpFI"
      },
      "source": [
        "<h1 align=\"center\">Organization Info</h1> "
      ]
    },
    {
      "cell_type": "markdown",
      "metadata": {
        "id": "YyRPO5nFLpFI"
      },
      "source": [
        "**Дополнительный материал для выполнения дз**:\n",
        "- Лукашин Ю.П. Адаптивные методы краткосрочного прогнозирования временных рядов. Финансы и статистика. 2003, главы 1,4,5,7.\n",
        "- https://otexts.com/fpp2/expsmooth.html\n",
        "\n",
        "**Оформление дз**: \n",
        "- Присылайте выполненное задание в гугл-форму https://forms.gle/G9e9L3ue3cFhNppf7\n",
        "- Выполненное дз сохраните в файл <Surname>_fall2022_hw1.ipynb, например, ivanov_fall2022_hw1.ipynb\n",
        "\n",
        "**Вопросы**:\n",
        "- Присылайте вопросы в slack в соответствующий канал\n",
        "\n",
        "**Deadilne**: <font color=\"red\"> 11-Dec-2022 11:59:59 pm CET </font>\n",
        "\n",
        "В случае присланного решения позже дедлайна максимальный бал буде снижен согласно формуле\n",
        "\n",
        "$$МаксимальныйБалл=\\max\\bigl(1/3,\\log_2⁡(1.23 + 0.77 * max(0,(1-ДнейПослеДедлайна/14))) \\bigr).$$\n",
        "График зависимости максимально возможного балла за ДЗ от просрочки дедлайна приведён ниже:"
      ]
    },
    {
      "cell_type": "code",
      "execution_count": null,
      "metadata": {
        "colab": {
          "base_uri": "https://localhost:8080/",
          "height": 204
        },
        "id": "YtrUc62_OJpj",
        "outputId": "cb823b7a-b496-4feb-ba28-ae95cb23b836"
      },
      "outputs": [
        {
          "data": {
            "image/png": "[encoded data removed]",
            "text/plain": [
              "<Figure size 1800x216 with 1 Axes>"
            ]
          },
          "metadata": {
            "needs_background": "light"
          },
          "output_type": "display_data"
        }
      ],
      "source": [
        "import pandas as pd\n",
        "import numpy as np\n",
        "a = 2\n",
        "ax = pd.DataFrame(data = [[x, min(10, 10*max(1/3, np.log(a-0.77 + 0.77*max(0, (1-x/14)))/np.log(a)))] for x in np.linspace(-0.5,14.1,200)], columns = ['Количество дней после дедлайна', 'Максимальный балл']).set_index('Количество дней после дедлайна').plot(figsize = (25,3), grid = True)"
      ]
    },
    {
      "cell_type": "markdown",
      "metadata": {
        "id": "tPEt1WwpLpFK"
      },
      "source": [
        "<h1 align=\"center\">Check Questions (5%)</h1> "
      ]
    },
    {
      "cell_type": "markdown",
      "metadata": {
        "id": "eT4beARALpFL"
      },
      "source": [
        "Ответе на вопросы своими словами (загугленный материал надо пересказать), ответ обоснуйте (напишите и ОБЪЯСНИТЕ формулки если потребуется), если не выходит, то вернитесь к лекции дополнительным материалам:\n",
        "\n",
        "**Вопрос 1**: Опишите, как изменяется адаптивная способность алгоритма Simple Exponential Smoothing при изменении параметра $\\alpha$ от 0 до 1.\n",
        "\n",
        "<Ответ>\n",
        "\n",
        "**Вопрос 2**: Докажите равенство выражений в $\\color{blue}{рекуррентной~форме}$ и в $\\color{red} {форме~корректировки~на~ошибку}$ для модели Хольта.\n",
        "\n",
        "$$        l_t = \\color{blue}{\\alpha y_t + (1-\\alpha) (l_{t-1} + b_{t-1} )} = \\color{red}{\\hat y_{t} + \\alpha e_t}$$ \n",
        "\n",
        "$$b_t = \\color{blue}{\\beta (l_{t} - l_{t-1} ) + (1-\\beta) b_{t-1}} = \\color{red}{b_{t-1}+ \\alpha\\beta e_t}.$$</td>\n",
        "\n",
        "<Ответ>\n",
        "\n",
        "**Вопрос 3**: Каким следует выбрать параметр сглаживания тренда $\\beta$ в модели Хольта (линейный тренд) в случае, когда вы предсказываете временной ряд 1) с плавно меняющимя трендом; 2) стохастически меняющися трендом?\n",
        "\n",
        "<Ответ>\n"
      ]
    },
    {
      "cell_type": "markdown",
      "metadata": {
        "id": "LpfNKng6LpFN"
      },
      "source": [
        "<h1 align=\"center\"> Practice</h1>\n",
        "\n",
        "#1. reading data (5%)\n",
        "\n",
        "Download data and prepare for following time series \n",
        " * <span style=\"color:blue; font-family:'New Times Roman'; font-size:14pt\"> description of the target ts you can find here  https://docs.google.com/spreadsheets/d/1HwwDZMCVUl-wpdY39TdBBKMwvks9VTe2gIpFtGBu-28/edit#gid=1251818784 </span> sheet \"Анализ временных рядов\" column C (\"ts\")\n",
        "\n"
      ]
    },
    {
      "cell_type": "code",
      "execution_count": null,
      "metadata": {
        "id": "vsaUVjqMSX7i"
      },
      "outputs": [],
      "source": []
    },
    {
      "cell_type": "code",
      "execution_count": null,
      "metadata": {
        "id": "1PA1elxdLpFO"
      },
      "outputs": [],
      "source": [
        "# start with this code\n",
        "import pandas as pd\n",
        "import numpy as np\n",
        "from utils import InitExponentialSmoothing, build_forecast, plot_ts_forecast\n",
        "from utils import qualityMAPE \n",
        "\n",
        "%matplotlib inline\n",
        "\n",
        "\n",
        "# ts = pd.read_csv('???/mothly_ts.csv', sep=???, decimal=???, index_col=???, parse_dates=True, dayfirst=True)\n",
        "\n",
        "# # Put your code below\n",
        "# ts.plot(figsize=(15,5))"
      ]
    },
    {
      "cell_type": "markdown",
      "metadata": {
        "id": "eU1vXagNLpFR"
      },
      "source": [
        "# 2. Build the Forecast with  SES (20%)\n",
        "\n",
        "You need to apply SES model for the ts.\n",
        "You can use code from seminars or you can write down your own code using any python lib.\n",
        "\n",
        "Forecast delay $h=1$ for all point in this task.\n",
        "\n",
        "* 0) Forecast the ts with SES $\\alpha=.1$.\n",
        "* 1) Split the ts to 4 equal parts: find the best param $\\alpha$ of SES for the based on 3-rd part of ts (e.g. if time series includes date from 01Jan2020 till 31Dec2021 then 3rd part will be from 1Jul2020 till 30Sep2020). Is the optimal value close to 0 or 1? (use MAPE as a loss function).\n",
        "* 2) Draw the forecast that correspond to SES with optimial value $\\alpha$\n",
        "     Conclude whether SES can be used for this TS? If can not than explain why.\n",
        "* 3) Calculate MAPE loss of the best forecast of the ts based on 4-th part of the ts.\n",
        "\n",
        "---\n",
        "\n"
      ]
    },
    {
      "cell_type": "markdown",
      "metadata": {
        "id": "HE-cPXRpLpFS"
      },
      "source": [
        "## 1) Search for the optimal $\\alpha$ "
      ]
    },
    {
      "cell_type": "code",
      "execution_count": null,
      "metadata": {
        "id": "K0wdYKmZLpFS"
      },
      "outputs": [],
      "source": [
        "ALPHA = ???\n",
        "ESParamsArray = [{'alpha':alpha} for alpha in ALPHA]\n",
        "FRC_ts = build_forecast(h=1, ts=???, alg_name =  ???, alg_title=???,params_array = ESParamsArray)"
      ]
    },
    {
      "cell_type": "code",
      "execution_count": null,
      "metadata": {
        "id": "5djZWrMnLpFU"
      },
      "outputs": [],
      "source": [
        "# compare ES parameters\n",
        "QualityStr = pd.DataFrame(index = ts.columns, columns = FRC_ts.keys())\n",
        "\n",
        "ix = ts.loc[???].index\n",
        "for param_cntr in sorted(QualityStr.columns):\n",
        "    frc_ts = FRC_ts[param_cntr]\n",
        "    QualityStr[param_cntr],_ = quality???(ts.loc[ix], frc_ts.loc[ix])\n",
        "\n",
        "QualityStr[QualityStr.columns].mean().sort_values()"
      ]
    },
    {
      "cell_type": "markdown",
      "metadata": {
        "id": "DwlMA4YGLpFV"
      },
      "source": [
        "## 2) draw the forecast with optimial value $\\alpha $"
      ]
    },
    {
      "cell_type": "code",
      "execution_count": null,
      "metadata": {
        "id": "D9n8LEmcLpFV"
      },
      "outputs": [],
      "source": [
        "alg_name = QualityStr[QualityStr.columns].mean().sort_values().index[0]\n",
        "plot_ts_forecast(ts.loc[???], FRC_ts[alg_name].loc[???]\n",
        "               , ts_num=???, alg_title=???)"
      ]
    },
    {
      "cell_type": "markdown",
      "metadata": {
        "id": "ZluTuWtdLpFW"
      },
      "source": [
        "** Question**\n",
        "    * Does SES follow to the TS components?"
      ]
    },
    {
      "cell_type": "markdown",
      "metadata": {
        "id": "rT5xAly7LpFW"
      },
      "source": [
        "## 3) Calculate loss of the forecast of TS in 4th part of the time series"
      ]
    },
    {
      "cell_type": "code",
      "execution_count": null,
      "metadata": {
        "id": "0o8ciKSCLpFX"
      },
      "outputs": [],
      "source": [
        "quality???(ts.loc[???], FRC_ts[alg_name].loc[???])[0]"
      ]
    },
    {
      "cell_type": "markdown",
      "metadata": {
        "id": "mo7uuFBFLpFX"
      },
      "source": [
        "# 3. Winters model for Additive Seasonality (25%)\n",
        "You need to realize ES model for TS with additive seasonality and then apply it to the ts.\n",
        "\n",
        "You can use code from seminars or you can write down your own code using any python lib.\n",
        "\n",
        "\n",
        "Forecast delay $h=1$ for all point in this task.\n",
        "\n",
        "* 1) Realize Additive Winters model\n",
        "* 2) Split the ts to 4 equal parts: find the best params $\\alpha$ (smoothing of level) and $\\gamma$ (smoothing of seasonality) for the based on 3-rd part of ts (e.g. if time series includes date from 01Jan2020 till 31Dec2021 then 3rd part will be from 1Jul2020 till 30Sep2020). Use MAPE as a loss function.\n",
        "* 3) Draw the forecast that correspond optimal values $\\alpha$ and $\\gamma$ for the whole TS \n",
        "* 4) Calculate MAPE loss of the best forecast of the ts based on 4-th part of the ts. Compare it with accuracy of SES: is it better? \n",
        "* 5) Based on results of 3) and 4) conclude whether Additive Winter's ES is appropriate for this TS."
      ]
    },
    {
      "cell_type": "code",
      "execution_count": null,
      "metadata": {
        "collapsed": true,
        "id": "GWggjDXGLpFY"
      },
      "outputs": [],
      "source": [
        "# Start with this code\n",
        "###################### Winters Exponential Smoothing #########################\n",
        "# x <array Tx1>- time series, \n",
        "# h <scalar> - forecasting delay\n",
        "# Params <dict> - dictionary with \n",
        "#    alpha <scalar in [0,1]> - smoothing parameter\n",
        "#    delts <scalar in [0,1]> - seasonality smoothing parameter\n",
        "\n",
        "def WintersExponentialSmoothing(x, h, Params):\n",
        "    T = len(x)\n",
        "    alpha = Params['alpha']\n",
        "    gamma = Params['gamma']\n",
        "    p = Params['seasonality_period']\n",
        "    \n",
        "    FORECAST = ## put foreast of the model here\n",
        "    \n",
        "    l= # initialize ts level \n",
        "    s= # initalize seasonality values (it must be vector of lenth p)\n",
        "    \n",
        "    for cntr in range(T):\n",
        "        if not math.isnan(x[cntr]):\n",
        "            if math.isnan(l):\n",
        "                l= # initialize \n",
        " \n",
        "            if math.isnan(s[cntr % p]):\n",
        "                s[cntr % p]= # initialize \n",
        " \n",
        "            l = # recurrent smoothing of level \n",
        "            s[cntr % p] = # recurrent smoothing of seasonality\n",
        "            \n",
        "        FORECAST[cntr+h] = ??\n",
        "    return FORECAST"
      ]
    },
    {
      "cell_type": "code",
      "execution_count": null,
      "metadata": {
        "collapsed": true,
        "id": "HbInPw3KLpFZ"
      },
      "outputs": [],
      "source": [
        "# Put your code here\n"
      ]
    },
    {
      "cell_type": "markdown",
      "metadata": {
        "id": "FqlkdBgHLpFZ"
      },
      "source": [
        "# 4. Theil-Wage model for TS with linear trend and seasonality (25%)\n",
        "You need to realize Theil-Wage model and then use it for forecasting the ts.\n",
        "\n",
        "You can use code from seminars or you can write down your own code using any python lib.\n",
        "\n",
        "\n",
        "Forecast delay $h=1$ for all point in this task.\n",
        "\n",
        "* 1) Realize Theil-Wage model\n",
        "* 2) Split the ts to 4 equal parts: find the best params $\\alpha$ (smoothing of level) and $\\gamma$ (smoothing of seasonality) for the based on 3-rd part of ts (e.g. if time series includes date from 01Jan2020 till 31Dec2021 then 3rd part will be from 1Jul2020 till 30Sep2020). Use MAPE as a loss function.\n",
        "* 3) Draw forecast with optimal values $\\alpha$, $\\beta$ and $\\gamma$\n",
        "* 4) Calculate MAPE loss of the best forecast of the ts based on 4-th part of the ts. Compare it with accuracy of Additive Winters model: is it better than the last one? \n",
        "* *5) Suggest how can the Theil-Wage model be improved to make accuracy of forecast better?"
      ]
    },
    {
      "cell_type": "code",
      "execution_count": null,
      "metadata": {
        "collapsed": true,
        "id": "Ol9u1sDxLpFZ"
      },
      "outputs": [],
      "source": [
        "# Put your code here"
      ]
    },
    {
      "cell_type": "markdown",
      "metadata": {
        "id": "ySLymROaLpFa"
      },
      "source": [
        "# 5. Non-additive model of ES (25%)\n",
        "You need to realize some ES-model that include non-addive component (or multiplicative trend or multiplicative component) or/and damped-trend component and then use it for forecasting of the ts\n",
        "\n",
        "You can use code from seminars or you can write down your own code using any python lib.\n",
        "\n",
        "Forecast delay $h=1$ for all point in this task.\n",
        "\n",
        "* 1) Realize one of following ES models: ESM(A,M) (t.e. Holt-Winters model), ESM(Ad,M), ESM(M,A), ESM(M,M), ESM(Md,M) model.\n",
        "* 2) Split the ts to 4 equal parts: find the best params $\\alpha$ (smoothing of level) and $\\gamma$ (smoothing of seasonality) for the based on 3-rd part of ts (e.g. if time series includes date from 01Jan2020 till 31Dec2021 then 3rd part will be from 1Jul2020 till 30Sep2020). Use MAPE as a loss function.\n",
        "Note: if you seelct damped trend model then you can set  $\\phi$ value expertly (say $0.98$). (Loss function should be the same as in task 2.)\n",
        "* 3) Draw forecast with optimal values of it's params. \n",
        "* 4) Calculate accuracy of the forecast of TS based on 4-th part of the ts. Compare it with accuracy of Additive Winters model and Theil-Wage model, which model is the best?\n",
        "* 5) Will be results the same if forecas horizon is different (h = seasonlaity period of data)? Please give reasons for your answer."
      ]
    },
    {
      "cell_type": "code",
      "execution_count": null,
      "metadata": {
        "collapsed": true,
        "id": "jJIzoa_2LpFb"
      },
      "outputs": [],
      "source": [
        "# Put your code here"
      ]
    }
  ],
  "metadata": {
    "anaconda-cloud": {},
    "colab": {
      "name": "HW1.ipynb",
      "provenance": []
    },
    "kernelspec": {
      "display_name": "Python 3.8.9 64-bit",
      "language": "python",
      "name": "python3"
    },
    "language_info": {
      "codemirror_mode": {
        "name": "ipython",
        "version": 3
      },
      "file_extension": ".py",
      "mimetype": "text/x-python",
      "name": "python",
      "nbconvert_exporter": "python",
      "pygments_lexer": "ipython3",
      "version": "3.8.9"
    },
    "vscode": {
      "interpreter": {
        "hash": "31f2aee4e71d21fbe5cf8b01ff0e069b9275f58929596ceb00d14d90e3e16cd6"
      }
    }
  },
  "nbformat": 4,
  "nbformat_minor": 0
}
